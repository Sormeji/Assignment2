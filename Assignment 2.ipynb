{
 "cells": [
  {
   "cell_type": "code",
   "execution_count": 1,
   "id": "34809acb-a1d5-44e3-b6b2-c96acbe9d41f",
   "metadata": {},
   "outputs": [
    {
     "ename": "SyntaxError",
     "evalue": "invalid syntax (1168694419.py, line 1)",
     "output_type": "error",
     "traceback": [
      "\u001b[0;36m  Cell \u001b[0;32mIn[1], line 1\u001b[0;36m\u001b[0m\n\u001b[0;31m    Q1Ans: We comment code in python by using # symbol\u001b[0m\n\u001b[0m              ^\u001b[0m\n\u001b[0;31mSyntaxError\u001b[0m\u001b[0;31m:\u001b[0m invalid syntax\n"
     ]
    }
   ],
   "source": [
    "Q1Ans: We comment code in python by using # symbol\n",
    "The difefrent types of comments are \n",
    "i. Single line comment \n",
    "ii. Multi line comment"
   ]
  },
  {
   "cell_type": "code",
   "execution_count": 2,
   "id": "3665bd42-3507-4019-96d5-b765c33f8309",
   "metadata": {},
   "outputs": [
    {
     "ename": "SyntaxError",
     "evalue": "invalid syntax (2395065780.py, line 1)",
     "output_type": "error",
     "traceback": [
      "\u001b[0;36m  Cell \u001b[0;32mIn[2], line 1\u001b[0;36m\u001b[0m\n\u001b[0;31m    Q2.Ans:A variable in an address where data is stored in a memory.\u001b[0m\n\u001b[0m             ^\u001b[0m\n\u001b[0;31mSyntaxError\u001b[0m\u001b[0;31m:\u001b[0m invalid syntax\n"
     ]
    }
   ],
   "source": [
    "Q2.Ans:A variable in an address where data is stored in a memory.\n",
    "By using = symbol which is an assignment operator which is used to declare and assign values to variables."
   ]
  },
  {
   "cell_type": "code",
   "execution_count": 3,
   "id": "55c82dfa-aeaa-49e4-8d62-b888acceff39",
   "metadata": {},
   "outputs": [
    {
     "ename": "SyntaxError",
     "evalue": "invalid syntax (1186442928.py, line 1)",
     "output_type": "error",
     "traceback": [
      "\u001b[0;36m  Cell \u001b[0;32mIn[3], line 1\u001b[0;36m\u001b[0m\n\u001b[0;31m    Q3Ans:There are two types of method to convert one data to another in python they are :\u001b[0m\n\u001b[0m                ^\u001b[0m\n\u001b[0;31mSyntaxError\u001b[0m\u001b[0;31m:\u001b[0m invalid syntax\n"
     ]
    }
   ],
   "source": [
    "Q3Ans:There are two types of method to convert one data to another in python they are :\n",
    "    i.Implicit Type Conversion\n",
    "    ii.Explicit Type Conversion"
   ]
  },
  {
   "cell_type": "code",
   "execution_count": 4,
   "id": "0676dba7-bfcc-480d-bd75-cdfea2607d8b",
   "metadata": {},
   "outputs": [
    {
     "ename": "SyntaxError",
     "evalue": "invalid syntax (2849331492.py, line 1)",
     "output_type": "error",
     "traceback": [
      "\u001b[0;36m  Cell \u001b[0;32mIn[4], line 1\u001b[0;36m\u001b[0m\n\u001b[0;31m    Q4.Ans:To write and execute a Python script from the command line we have to .py extension and have to press enter.\u001b[0m\n\u001b[0m              ^\u001b[0m\n\u001b[0;31mSyntaxError\u001b[0m\u001b[0;31m:\u001b[0m invalid syntax\n"
     ]
    }
   ],
   "source": [
    "Q4.Ans:To write and execute a Python script from the command line we have to .py extension and have to press enter."
   ]
  },
  {
   "cell_type": "code",
   "execution_count": 6,
   "id": "b61c56f6-841b-4f47-a331-7c84331f408f",
   "metadata": {},
   "outputs": [
    {
     "name": "stdout",
     "output_type": "stream",
     "text": [
      "[2, 3]\n"
     ]
    }
   ],
   "source": [
    "#Q5.Ans: \n",
    "my_list = [1, 2, 3, 4, 5]\n",
    "sub_list = my_list[1:3]\n",
    "print(sub_list)"
   ]
  },
  {
   "cell_type": "code",
   "execution_count": 7,
   "id": "9bf2921e-6ce1-477a-bc2b-250a77a5ee91",
   "metadata": {},
   "outputs": [
    {
     "ename": "SyntaxError",
     "evalue": "invalid syntax (172507288.py, line 1)",
     "output_type": "error",
     "traceback": [
      "\u001b[0;36m  Cell \u001b[0;32mIn[7], line 1\u001b[0;36m\u001b[0m\n\u001b[0;31m    Q6.Ans: A complex number in mathematics is the number of the form a+ib where a is the real part and ib is the imaginary part.\u001b[0m\n\u001b[0m              ^\u001b[0m\n\u001b[0;31mSyntaxError\u001b[0m\u001b[0;31m:\u001b[0m invalid syntax\n"
     ]
    }
   ],
   "source": [
    "Q6.Ans: A complex number in mathematics is the number of the form a+ib where i is the imaginary unit and a,b both are real numbers.\n",
    "In python complex number is represrented as ,let us take an example 7+4j."
   ]
  },
  {
   "cell_type": "code",
   "execution_count": 8,
   "id": "147bc305-a0e6-46c9-bc17-cf53823c26d5",
   "metadata": {},
   "outputs": [
    {
     "name": "stdout",
     "output_type": "stream",
     "text": [
      "The age is 25\n"
     ]
    }
   ],
   "source": [
    "#Q7.Ans The correct way to declare a variable name age is\n",
    "age =25\n",
    "print(\"The age is\",age)"
   ]
  },
  {
   "cell_type": "code",
   "execution_count": 9,
   "id": "d2eb2dca-9b87-467a-874d-a5bfeaa788c6",
   "metadata": {
    "tags": []
   },
   "outputs": [],
   "source": [
    "#Q8.Ans:According to the question\n",
    "price = 9.99"
   ]
  },
  {
   "cell_type": "code",
   "execution_count": 10,
   "id": "5139afde-4b8d-40ca-8852-71ba17355a62",
   "metadata": {},
   "outputs": [
    {
     "data": {
      "text/plain": [
       "float"
      ]
     },
     "execution_count": 10,
     "metadata": {},
     "output_type": "execute_result"
    }
   ],
   "source": [
    "type(price)"
   ]
  },
  {
   "cell_type": "code",
   "execution_count": 11,
   "id": "6c4b3bf1-b95c-4601-846a-0bff0b3ea3dd",
   "metadata": {},
   "outputs": [],
   "source": [
    "#Q9.Ans:\n",
    "name=\"Satyajit\""
   ]
  },
  {
   "cell_type": "code",
   "execution_count": 12,
   "id": "c3337746-8819-4fc6-92db-b31287a53594",
   "metadata": {},
   "outputs": [
    {
     "name": "stdout",
     "output_type": "stream",
     "text": [
      "Satyajit\n"
     ]
    }
   ],
   "source": [
    "print(name)"
   ]
  },
  {
   "cell_type": "code",
   "execution_count": 13,
   "id": "a4f18d89-f715-4757-ad55-e72ada51b549",
   "metadata": {},
   "outputs": [
    {
     "data": {
      "text/plain": [
       "str"
      ]
     },
     "execution_count": 13,
     "metadata": {},
     "output_type": "execute_result"
    }
   ],
   "source": [
    "type(name)"
   ]
  },
  {
   "cell_type": "code",
   "execution_count": 14,
   "id": "f18a0325-f00a-40c6-9f27-bc78160162be",
   "metadata": {},
   "outputs": [],
   "source": [
    "#Q10.\n",
    "string1=\"Hello, World!\""
   ]
  },
  {
   "cell_type": "code",
   "execution_count": 19,
   "id": "e5d0bf1d-da2c-4701-b39a-c2b49fea4c0f",
   "metadata": {},
   "outputs": [],
   "source": [
    "new_string1 = string1[7:12]"
   ]
  },
  {
   "cell_type": "code",
   "execution_count": 20,
   "id": "81132805-8006-4610-a338-f81e461737a5",
   "metadata": {},
   "outputs": [
    {
     "name": "stdout",
     "output_type": "stream",
     "text": [
      "World\n"
     ]
    }
   ],
   "source": [
    "print(new_string1)"
   ]
  },
  {
   "cell_type": "code",
   "execution_count": 21,
   "id": "70300074-7216-46f3-b7d9-ce1458714cf3",
   "metadata": {},
   "outputs": [],
   "source": [
    "#Q11.Ans"
   ]
  },
  {
   "cell_type": "code",
   "execution_count": 22,
   "id": "a997dedc-8d0e-4f02-8726-17f088746d36",
   "metadata": {},
   "outputs": [
    {
     "ename": "SyntaxError",
     "evalue": "cannot assign to literal here. Maybe you meant '==' instead of '='? (2323250882.py, line 1)",
     "output_type": "error",
     "traceback": [
      "\u001b[0;36m  Cell \u001b[0;32mIn[22], line 1\u001b[0;36m\u001b[0m\n\u001b[0;31m    \"is_student\"=True\u001b[0m\n\u001b[0m    ^\u001b[0m\n\u001b[0;31mSyntaxError\u001b[0m\u001b[0;31m:\u001b[0m cannot assign to literal here. Maybe you meant '==' instead of '='?\n"
     ]
    }
   ],
   "source": [
    "\"is_student\"=True"
   ]
  },
  {
   "cell_type": "code",
   "execution_count": null,
   "id": "31508d21-d503-47b3-ad2a-a341cceb8508",
   "metadata": {},
   "outputs": [],
   "source": []
  }
 ],
 "metadata": {
  "kernelspec": {
   "display_name": "Python 3 (ipykernel)",
   "language": "python",
   "name": "python3"
  },
  "language_info": {
   "codemirror_mode": {
    "name": "ipython",
    "version": 3
   },
   "file_extension": ".py",
   "mimetype": "text/x-python",
   "name": "python",
   "nbconvert_exporter": "python",
   "pygments_lexer": "ipython3",
   "version": "3.10.8"
  }
 },
 "nbformat": 4,
 "nbformat_minor": 5
}
